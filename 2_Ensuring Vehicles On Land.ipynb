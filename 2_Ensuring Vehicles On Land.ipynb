{
 "cells": [
  {
   "cell_type": "code",
   "execution_count": 2,
   "id": "66c09177",
   "metadata": {},
   "outputs": [],
   "source": [
    "from __future__ import division\n",
    "import numpy as np\n",
    "import pandas as pd\n",
    "import matplotlib.pyplot as plt\n",
    "from mpl_toolkits.axes_grid1 import host_subplot\n",
    "import mpl_toolkits.axisartist as AA\n",
    "from global_land_mask import globe"
   ]
  },
  {
   "cell_type": "code",
   "execution_count": 3,
   "id": "18031edd",
   "metadata": {},
   "outputs": [],
   "source": [
    "df_veh = pd.read_csv('vehicle_population.csv')"
   ]
  },
  {
   "cell_type": "code",
   "execution_count": 4,
   "id": "73f920a3",
   "metadata": {},
   "outputs": [
    {
     "data": {
      "text/html": [
       "<div>\n",
       "<style scoped>\n",
       "    .dataframe tbody tr th:only-of-type {\n",
       "        vertical-align: middle;\n",
       "    }\n",
       "\n",
       "    .dataframe tbody tr th {\n",
       "        vertical-align: top;\n",
       "    }\n",
       "\n",
       "    .dataframe thead th {\n",
       "        text-align: right;\n",
       "    }\n",
       "</style>\n",
       "<table border=\"1\" class=\"dataframe\">\n",
       "  <thead>\n",
       "    <tr style=\"text-align: right;\">\n",
       "      <th></th>\n",
       "      <th>vehicle_ID</th>\n",
       "      <th>V_x</th>\n",
       "      <th>V_y</th>\n",
       "    </tr>\n",
       "  </thead>\n",
       "  <tbody>\n",
       "    <tr>\n",
       "      <th>0</th>\n",
       "      <td>1</td>\n",
       "      <td>25.368490</td>\n",
       "      <td>55.487431</td>\n",
       "    </tr>\n",
       "    <tr>\n",
       "      <th>1</th>\n",
       "      <td>2</td>\n",
       "      <td>25.244684</td>\n",
       "      <td>55.483104</td>\n",
       "    </tr>\n",
       "    <tr>\n",
       "      <th>2</th>\n",
       "      <td>3</td>\n",
       "      <td>25.265855</td>\n",
       "      <td>55.461110</td>\n",
       "    </tr>\n",
       "    <tr>\n",
       "      <th>3</th>\n",
       "      <td>4</td>\n",
       "      <td>25.266825</td>\n",
       "      <td>55.494608</td>\n",
       "    </tr>\n",
       "    <tr>\n",
       "      <th>4</th>\n",
       "      <td>5</td>\n",
       "      <td>25.338874</td>\n",
       "      <td>55.510999</td>\n",
       "    </tr>\n",
       "  </tbody>\n",
       "</table>\n",
       "</div>"
      ],
      "text/plain": [
       "   vehicle_ID        V_x        V_y\n",
       "0           1  25.368490  55.487431\n",
       "1           2  25.244684  55.483104\n",
       "2           3  25.265855  55.461110\n",
       "3           4  25.266825  55.494608\n",
       "4           5  25.338874  55.510999"
      ]
     },
     "execution_count": 4,
     "metadata": {},
     "output_type": "execute_result"
    }
   ],
   "source": [
    "df_veh.head()"
   ]
  },
  {
   "cell_type": "code",
   "execution_count": 5,
   "id": "6d213cb7",
   "metadata": {},
   "outputs": [],
   "source": [
    "df_lanes = pd.read_csv('lanes.csv')"
   ]
  },
  {
   "cell_type": "code",
   "execution_count": 6,
   "id": "4bcc14a2",
   "metadata": {},
   "outputs": [
    {
     "data": {
      "text/html": [
       "<div>\n",
       "<style scoped>\n",
       "    .dataframe tbody tr th:only-of-type {\n",
       "        vertical-align: middle;\n",
       "    }\n",
       "\n",
       "    .dataframe tbody tr th {\n",
       "        vertical-align: top;\n",
       "    }\n",
       "\n",
       "    .dataframe thead th {\n",
       "        text-align: right;\n",
       "    }\n",
       "</style>\n",
       "<table border=\"1\" class=\"dataframe\">\n",
       "  <thead>\n",
       "    <tr style=\"text-align: right;\">\n",
       "      <th></th>\n",
       "      <th>Lane_ID</th>\n",
       "      <th>L_x</th>\n",
       "      <th>L_y</th>\n",
       "    </tr>\n",
       "  </thead>\n",
       "  <tbody>\n",
       "    <tr>\n",
       "      <th>0</th>\n",
       "      <td>1</td>\n",
       "      <td>25.317698</td>\n",
       "      <td>55.488839</td>\n",
       "    </tr>\n",
       "    <tr>\n",
       "      <th>1</th>\n",
       "      <td>2</td>\n",
       "      <td>25.298846</td>\n",
       "      <td>55.454846</td>\n",
       "    </tr>\n",
       "    <tr>\n",
       "      <th>2</th>\n",
       "      <td>3</td>\n",
       "      <td>25.298403</td>\n",
       "      <td>55.438383</td>\n",
       "    </tr>\n",
       "    <tr>\n",
       "      <th>3</th>\n",
       "      <td>4</td>\n",
       "      <td>25.286199</td>\n",
       "      <td>55.427122</td>\n",
       "    </tr>\n",
       "    <tr>\n",
       "      <th>4</th>\n",
       "      <td>5</td>\n",
       "      <td>25.297760</td>\n",
       "      <td>55.396421</td>\n",
       "    </tr>\n",
       "  </tbody>\n",
       "</table>\n",
       "</div>"
      ],
      "text/plain": [
       "   Lane_ID        L_x        L_y\n",
       "0        1  25.317698  55.488839\n",
       "1        2  25.298846  55.454846\n",
       "2        3  25.298403  55.438383\n",
       "3        4  25.286199  55.427122\n",
       "4        5  25.297760  55.396421"
      ]
     },
     "execution_count": 6,
     "metadata": {},
     "output_type": "execute_result"
    }
   ],
   "source": [
    "df_lanes.head()"
   ]
  },
  {
   "cell_type": "code",
   "execution_count": 7,
   "id": "7f854cd3",
   "metadata": {},
   "outputs": [],
   "source": [
    "df_veh['on_land'] = globe.is_land(df_veh['V_x'], df_veh['V_y'])"
   ]
  },
  {
   "cell_type": "code",
   "execution_count": 8,
   "id": "d0d4dc5a",
   "metadata": {},
   "outputs": [
    {
     "data": {
      "text/html": [
       "<div>\n",
       "<style scoped>\n",
       "    .dataframe tbody tr th:only-of-type {\n",
       "        vertical-align: middle;\n",
       "    }\n",
       "\n",
       "    .dataframe tbody tr th {\n",
       "        vertical-align: top;\n",
       "    }\n",
       "\n",
       "    .dataframe thead th {\n",
       "        text-align: right;\n",
       "    }\n",
       "</style>\n",
       "<table border=\"1\" class=\"dataframe\">\n",
       "  <thead>\n",
       "    <tr style=\"text-align: right;\">\n",
       "      <th></th>\n",
       "      <th>vehicle_ID</th>\n",
       "      <th>V_x</th>\n",
       "      <th>V_y</th>\n",
       "      <th>on_land</th>\n",
       "    </tr>\n",
       "  </thead>\n",
       "  <tbody>\n",
       "    <tr>\n",
       "      <th>0</th>\n",
       "      <td>1</td>\n",
       "      <td>25.368490</td>\n",
       "      <td>55.487431</td>\n",
       "      <td>True</td>\n",
       "    </tr>\n",
       "    <tr>\n",
       "      <th>1</th>\n",
       "      <td>2</td>\n",
       "      <td>25.244684</td>\n",
       "      <td>55.483104</td>\n",
       "      <td>True</td>\n",
       "    </tr>\n",
       "    <tr>\n",
       "      <th>2</th>\n",
       "      <td>3</td>\n",
       "      <td>25.265855</td>\n",
       "      <td>55.461110</td>\n",
       "      <td>True</td>\n",
       "    </tr>\n",
       "    <tr>\n",
       "      <th>3</th>\n",
       "      <td>4</td>\n",
       "      <td>25.266825</td>\n",
       "      <td>55.494608</td>\n",
       "      <td>True</td>\n",
       "    </tr>\n",
       "    <tr>\n",
       "      <th>4</th>\n",
       "      <td>5</td>\n",
       "      <td>25.338874</td>\n",
       "      <td>55.510999</td>\n",
       "      <td>True</td>\n",
       "    </tr>\n",
       "  </tbody>\n",
       "</table>\n",
       "</div>"
      ],
      "text/plain": [
       "   vehicle_ID        V_x        V_y  on_land\n",
       "0           1  25.368490  55.487431     True\n",
       "1           2  25.244684  55.483104     True\n",
       "2           3  25.265855  55.461110     True\n",
       "3           4  25.266825  55.494608     True\n",
       "4           5  25.338874  55.510999     True"
      ]
     },
     "execution_count": 8,
     "metadata": {},
     "output_type": "execute_result"
    }
   ],
   "source": [
    "df_veh.head()"
   ]
  },
  {
   "cell_type": "code",
   "execution_count": 9,
   "id": "4db95202",
   "metadata": {},
   "outputs": [
    {
     "data": {
      "text/plain": [
       "True     4452\n",
       "False     548\n",
       "Name: on_land, dtype: int64"
      ]
     },
     "execution_count": 9,
     "metadata": {},
     "output_type": "execute_result"
    }
   ],
   "source": [
    "df_veh['on_land'].value_counts()"
   ]
  },
  {
   "cell_type": "code",
   "execution_count": 10,
   "id": "e2fb9659",
   "metadata": {},
   "outputs": [],
   "source": [
    "df_veh_on_sea = df_veh.query('on_land == False')"
   ]
  },
  {
   "cell_type": "code",
   "execution_count": 18,
   "id": "4fdcc7aa",
   "metadata": {},
   "outputs": [],
   "source": [
    "df_veh_on_land = df_veh.drop(df_veh[df_veh['on_land'] == False].index)"
   ]
  },
  {
   "cell_type": "code",
   "execution_count": 20,
   "id": "fb6ad88c",
   "metadata": {},
   "outputs": [
    {
     "data": {
      "text/plain": [
       "False    548\n",
       "Name: on_land, dtype: int64"
      ]
     },
     "execution_count": 20,
     "metadata": {},
     "output_type": "execute_result"
    }
   ],
   "source": [
    "df_veh_on_sea['on_land'].value_counts()"
   ]
  },
  {
   "cell_type": "code",
   "execution_count": 19,
   "id": "157040e6",
   "metadata": {},
   "outputs": [
    {
     "data": {
      "text/plain": [
       "True    4452\n",
       "Name: on_land, dtype: int64"
      ]
     },
     "execution_count": 19,
     "metadata": {},
     "output_type": "execute_result"
    }
   ],
   "source": [
    "df_veh_on_land['on_land'].value_counts()"
   ]
  },
  {
   "cell_type": "code",
   "execution_count": 21,
   "id": "6b3513a3",
   "metadata": {},
   "outputs": [],
   "source": [
    "df_veh_on_land.to_csv('vehicles.csv',index=False)"
   ]
  }
 ],
 "metadata": {
  "kernelspec": {
   "display_name": "Python 3 (ipykernel)",
   "language": "python",
   "name": "python3"
  },
  "language_info": {
   "codemirror_mode": {
    "name": "ipython",
    "version": 3
   },
   "file_extension": ".py",
   "mimetype": "text/x-python",
   "name": "python",
   "nbconvert_exporter": "python",
   "pygments_lexer": "ipython3",
   "version": "3.8.12"
  }
 },
 "nbformat": 4,
 "nbformat_minor": 5
}
