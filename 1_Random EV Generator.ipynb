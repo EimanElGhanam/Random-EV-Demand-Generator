{
 "cells": [
  {
   "cell_type": "code",
   "execution_count": 1,
   "id": "822234b1",
   "metadata": {},
   "outputs": [],
   "source": [
    "from __future__ import division\n",
    "import numpy as np\n",
    "import pandas as pd\n",
    "import matplotlib.pyplot as plt\n",
    "from mpl_toolkits.axes_grid1 import host_subplot\n",
    "import mpl_toolkits.axisartist as AA"
   ]
  },
  {
   "cell_type": "code",
   "execution_count": 2,
   "id": "e63b22cd",
   "metadata": {},
   "outputs": [],
   "source": [
    "def create_random_point(x0,y0,distance):\n",
    "    \"\"\"\n",
    "            Utility method for simulation of the points\n",
    "    \"\"\"   \n",
    "    r = distance/ 111300\n",
    "    u = np.random.uniform(0,1)\n",
    "    v = np.random.uniform(0,1)\n",
    "    w = r * np.sqrt(u)\n",
    "    t = 2 * np.pi * v\n",
    "    x = w * np.cos(t)\n",
    "    x1 = x / np.cos(y0)\n",
    "    y = w * np.sin(t)\n",
    "    return (x0+x1, y0 +y)"
   ]
  },
  {
   "cell_type": "code",
   "execution_count": 3,
   "id": "66e396eb",
   "metadata": {},
   "outputs": [
    {
     "data": {
      "text/html": [
       "<div>\n",
       "<style scoped>\n",
       "    .dataframe tbody tr th:only-of-type {\n",
       "        vertical-align: middle;\n",
       "    }\n",
       "\n",
       "    .dataframe tbody tr th {\n",
       "        vertical-align: top;\n",
       "    }\n",
       "\n",
       "    .dataframe thead th {\n",
       "        text-align: right;\n",
       "    }\n",
       "</style>\n",
       "<table border=\"1\" class=\"dataframe\">\n",
       "  <thead>\n",
       "    <tr style=\"text-align: right;\">\n",
       "      <th></th>\n",
       "      <th>L_x</th>\n",
       "      <th>L_y</th>\n",
       "      <th>B_j</th>\n",
       "      <th>XnE_j</th>\n",
       "      <th>Lane ID</th>\n",
       "    </tr>\n",
       "  </thead>\n",
       "  <tbody>\n",
       "    <tr>\n",
       "      <th>0</th>\n",
       "      <td>25.317698</td>\n",
       "      <td>55.488839</td>\n",
       "      <td>3715</td>\n",
       "      <td>625</td>\n",
       "      <td>L1</td>\n",
       "    </tr>\n",
       "    <tr>\n",
       "      <th>1</th>\n",
       "      <td>25.298846</td>\n",
       "      <td>55.454846</td>\n",
       "      <td>3715</td>\n",
       "      <td>625</td>\n",
       "      <td>L2</td>\n",
       "    </tr>\n",
       "    <tr>\n",
       "      <th>2</th>\n",
       "      <td>25.298403</td>\n",
       "      <td>55.438383</td>\n",
       "      <td>3715</td>\n",
       "      <td>625</td>\n",
       "      <td>L3</td>\n",
       "    </tr>\n",
       "    <tr>\n",
       "      <th>3</th>\n",
       "      <td>25.286199</td>\n",
       "      <td>55.427122</td>\n",
       "      <td>3715</td>\n",
       "      <td>500</td>\n",
       "      <td>L4</td>\n",
       "    </tr>\n",
       "    <tr>\n",
       "      <th>4</th>\n",
       "      <td>25.297760</td>\n",
       "      <td>55.396421</td>\n",
       "      <td>3715</td>\n",
       "      <td>750</td>\n",
       "      <td>L5</td>\n",
       "    </tr>\n",
       "  </tbody>\n",
       "</table>\n",
       "</div>"
      ],
      "text/plain": [
       "         L_x        L_y   B_j  XnE_j Lane ID\n",
       "0  25.317698  55.488839  3715    625      L1\n",
       "1  25.298846  55.454846  3715    625      L2\n",
       "2  25.298403  55.438383  3715    625      L3\n",
       "3  25.286199  55.427122  3715    500      L4\n",
       "4  25.297760  55.396421  3715    750      L5"
      ]
     },
     "execution_count": 3,
     "metadata": {},
     "output_type": "execute_result"
    }
   ],
   "source": [
    "df_lanes = pd.read_csv('Candidate_Locations.csv')\n",
    "df_lanes.head()"
   ]
  },
  {
   "cell_type": "code",
   "execution_count": 4,
   "id": "33e1495c",
   "metadata": {},
   "outputs": [
    {
     "data": {
      "text/plain": [
       "10"
      ]
     },
     "execution_count": 4,
     "metadata": {},
     "output_type": "execute_result"
    }
   ],
   "source": [
    "df_lanes.shape[0]"
   ]
  },
  {
   "cell_type": "code",
   "execution_count": 5,
   "id": "02543c05",
   "metadata": {},
   "outputs": [],
   "source": [
    "Latitudes = df_lanes['L_x']"
   ]
  },
  {
   "cell_type": "code",
   "execution_count": 6,
   "id": "dab995d7",
   "metadata": {},
   "outputs": [],
   "source": [
    "Longitudes = df_lanes['L_y']"
   ]
  },
  {
   "cell_type": "code",
   "execution_count": 18,
   "id": "0491f7f1",
   "metadata": {},
   "outputs": [],
   "source": [
    "V_x = []\n",
    "V_y = []"
   ]
  },
  {
   "cell_type": "code",
   "execution_count": 19,
   "id": "5ebe0bff",
   "metadata": {},
   "outputs": [
    {
     "data": {
      "image/png": "[encoded data removed]",
      "text/plain": [
       "<Figure size 432x288 with 1 Axes>"
      ]
     },
     "metadata": {
      "needs_background": "light"
     },
     "output_type": "display_data"
    }
   ],
   "source": [
    "fig = plt.figure()\n",
    "ax = host_subplot(111, axes_class=AA.Axes)\n",
    "\n",
    "ax.set_autoscale_on(True)\n",
    "\n",
    "for i in range(df_lanes.shape[0]):\n",
    "    Lat1 = Latitudes[i]\n",
    "    Long1 = Longitudes[i]\n",
    "    ax.plot(Lat1,Long1,'ro')\n",
    "    for i in range(1,501):\n",
    "        x,y = create_random_point(Lat1,Long1 ,5000)\n",
    "        V_x.append(x)\n",
    "        V_y.append(y)\n",
    "        ax.plot(x,y,'bo')  \n",
    "    plt.show()"
   ]
  },
  {
   "cell_type": "code",
   "execution_count": 58,
   "id": "a4fcc1cb",
   "metadata": {},
   "outputs": [
    {
     "data": {
      "text/plain": [
       "5000"
      ]
     },
     "execution_count": 58,
     "metadata": {},
     "output_type": "execute_result"
    }
   ],
   "source": [
    "len(V_y)"
   ]
  },
  {
   "cell_type": "code",
   "execution_count": 21,
   "id": "bae30d7b",
   "metadata": {},
   "outputs": [],
   "source": [
    "df_veh = pd.DataFrame(list(zip(V_x, V_y)), columns =['V_x','V_y'])"
   ]
  },
  {
   "cell_type": "code",
   "execution_count": 22,
   "id": "916f1b5e",
   "metadata": {},
   "outputs": [
    {
     "data": {
      "text/html": [
       "<div>\n",
       "<style scoped>\n",
       "    .dataframe tbody tr th:only-of-type {\n",
       "        vertical-align: middle;\n",
       "    }\n",
       "\n",
       "    .dataframe tbody tr th {\n",
       "        vertical-align: top;\n",
       "    }\n",
       "\n",
       "    .dataframe thead th {\n",
       "        text-align: right;\n",
       "    }\n",
       "</style>\n",
       "<table border=\"1\" class=\"dataframe\">\n",
       "  <thead>\n",
       "    <tr style=\"text-align: right;\">\n",
       "      <th></th>\n",
       "      <th>V_x</th>\n",
       "      <th>V_y</th>\n",
       "    </tr>\n",
       "  </thead>\n",
       "  <tbody>\n",
       "    <tr>\n",
       "      <th>0</th>\n",
       "      <td>25.368490</td>\n",
       "      <td>55.487431</td>\n",
       "    </tr>\n",
       "    <tr>\n",
       "      <th>1</th>\n",
       "      <td>25.244684</td>\n",
       "      <td>55.483104</td>\n",
       "    </tr>\n",
       "    <tr>\n",
       "      <th>2</th>\n",
       "      <td>25.265855</td>\n",
       "      <td>55.461110</td>\n",
       "    </tr>\n",
       "    <tr>\n",
       "      <th>3</th>\n",
       "      <td>25.266825</td>\n",
       "      <td>55.494608</td>\n",
       "    </tr>\n",
       "    <tr>\n",
       "      <th>4</th>\n",
       "      <td>25.338874</td>\n",
       "      <td>55.510999</td>\n",
       "    </tr>\n",
       "  </tbody>\n",
       "</table>\n",
       "</div>"
      ],
      "text/plain": [
       "         V_x        V_y\n",
       "0  25.368490  55.487431\n",
       "1  25.244684  55.483104\n",
       "2  25.265855  55.461110\n",
       "3  25.266825  55.494608\n",
       "4  25.338874  55.510999"
      ]
     },
     "execution_count": 22,
     "metadata": {},
     "output_type": "execute_result"
    }
   ],
   "source": [
    "df_veh.head()"
   ]
  },
  {
   "cell_type": "code",
   "execution_count": 23,
   "id": "80300e2f",
   "metadata": {},
   "outputs": [
    {
     "data": {
      "text/plain": [
       "(5000, 2)"
      ]
     },
     "execution_count": 23,
     "metadata": {},
     "output_type": "execute_result"
    }
   ],
   "source": [
    "df_veh.shape"
   ]
  },
  {
   "cell_type": "code",
   "execution_count": 35,
   "id": "a904c024",
   "metadata": {},
   "outputs": [],
   "source": [
    "x = lambda x: x in int(range(1,5001))"
   ]
  },
  {
   "cell_type": "code",
   "execution_count": 39,
   "id": "ecd87030",
   "metadata": {},
   "outputs": [
    {
     "name": "stdout",
     "output_type": "stream",
     "text": [
      "<function <lambda> at 0x00000196EF86E0D0>\n"
     ]
    }
   ],
   "source": [
    "print (x)"
   ]
  },
  {
   "cell_type": "code",
   "execution_count": 46,
   "id": "740ef6cb",
   "metadata": {},
   "outputs": [],
   "source": [
    "v_id = []\n",
    "for i in range(1,5001):\n",
    "    v_id.append('v{}'.format(i))\n",
    "df_veh['Vehicle_ID'] = v_id"
   ]
  },
  {
   "cell_type": "code",
   "execution_count": 47,
   "id": "dff5eee4",
   "metadata": {},
   "outputs": [
    {
     "data": {
      "text/html": [
       "<div>\n",
       "<style scoped>\n",
       "    .dataframe tbody tr th:only-of-type {\n",
       "        vertical-align: middle;\n",
       "    }\n",
       "\n",
       "    .dataframe tbody tr th {\n",
       "        vertical-align: top;\n",
       "    }\n",
       "\n",
       "    .dataframe thead th {\n",
       "        text-align: right;\n",
       "    }\n",
       "</style>\n",
       "<table border=\"1\" class=\"dataframe\">\n",
       "  <thead>\n",
       "    <tr style=\"text-align: right;\">\n",
       "      <th></th>\n",
       "      <th>V_x</th>\n",
       "      <th>V_y</th>\n",
       "      <th>Vehicle_ID</th>\n",
       "    </tr>\n",
       "  </thead>\n",
       "  <tbody>\n",
       "    <tr>\n",
       "      <th>0</th>\n",
       "      <td>25.368490</td>\n",
       "      <td>55.487431</td>\n",
       "      <td>v1</td>\n",
       "    </tr>\n",
       "    <tr>\n",
       "      <th>1</th>\n",
       "      <td>25.244684</td>\n",
       "      <td>55.483104</td>\n",
       "      <td>v2</td>\n",
       "    </tr>\n",
       "    <tr>\n",
       "      <th>2</th>\n",
       "      <td>25.265855</td>\n",
       "      <td>55.461110</td>\n",
       "      <td>v3</td>\n",
       "    </tr>\n",
       "    <tr>\n",
       "      <th>3</th>\n",
       "      <td>25.266825</td>\n",
       "      <td>55.494608</td>\n",
       "      <td>v4</td>\n",
       "    </tr>\n",
       "    <tr>\n",
       "      <th>4</th>\n",
       "      <td>25.338874</td>\n",
       "      <td>55.510999</td>\n",
       "      <td>v5</td>\n",
       "    </tr>\n",
       "  </tbody>\n",
       "</table>\n",
       "</div>"
      ],
      "text/plain": [
       "         V_x        V_y Vehicle_ID\n",
       "0  25.368490  55.487431         v1\n",
       "1  25.244684  55.483104         v2\n",
       "2  25.265855  55.461110         v3\n",
       "3  25.266825  55.494608         v4\n",
       "4  25.338874  55.510999         v5"
      ]
     },
     "execution_count": 47,
     "metadata": {},
     "output_type": "execute_result"
    }
   ],
   "source": [
    "df_veh.head()"
   ]
  },
  {
   "cell_type": "code",
   "execution_count": 48,
   "id": "1b2e912f",
   "metadata": {},
   "outputs": [],
   "source": [
    "df_veh.to_csv('vehicle_population.csv', index=False)"
   ]
  }
 ],
 "metadata": {
  "kernelspec": {
   "display_name": "Python 3 (ipykernel)",
   "language": "python",
   "name": "python3"
  },
  "language_info": {
   "codemirror_mode": {
    "name": "ipython",
    "version": 3
   },
   "file_extension": ".py",
   "mimetype": "text/x-python",
   "name": "python",
   "nbconvert_exporter": "python",
   "pygments_lexer": "ipython3",
   "version": "3.8.12"
  }
 },
 "nbformat": 4,
 "nbformat_minor": 5
}
